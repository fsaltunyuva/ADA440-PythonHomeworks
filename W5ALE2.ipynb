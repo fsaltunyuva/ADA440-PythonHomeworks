{
  "cells": [
    {
      "cell_type": "markdown",
      "metadata": {
        "id": "umlXXhrnybXq"
      },
      "source": [
        "[![Open in Colab](https://colab.research.google.com/assets/colab-badge.svg)](https://colab.research.google.com/github/y-akbal/ADA440_Python_4_DS/blob/main/ALE/W5ALE2.ipynb)"
      ]
    },
    {
      "cell_type": "code",
      "execution_count": 1,
      "metadata": {
        "id": "oiiedYp12beE"
      },
      "outputs": [],
      "source": [
        "import os\n",
        "import requests\n",
        "import numpy as np"
      ]
    },
    {
      "cell_type": "markdown",
      "metadata": {
        "id": "GIKockwO3SO-"
      },
      "source": [
        "\n",
        "## In this active learning exercise there are two questions related with:\n",
        "\n",
        "1.   Exception Handling\n",
        "2.   Classes\n",
        "\n",
        "Please do both.\n",
        "\n",
        "#Run the next cell to download the required files."
      ]
    },
    {
      "cell_type": "code",
      "execution_count": 2,
      "metadata": {
        "colab": {
          "base_uri": "https://localhost:8080/"
        },
        "id": "sjGBfB9Jy4Hv",
        "outputId": "91e6faf2-9f3b-4329-f886-bf9a254fce65"
      },
      "outputs": [
        {
          "output_type": "stream",
          "name": "stdout",
          "text": [
            "Text downloaded succesfully!! the name of the files are text1.txt and text2.txt\n"
          ]
        }
      ],
      "source": [
        "#### ---- Exercise 1 ---- #####\n",
        "#### Run this cell as this cell will download some necessary files for your exercises.\n",
        "### Run the following function, do not change any line of it.\n",
        "def download_text():\n",
        "    data_url1 = 'https://raw.githubusercontent.com/y-akbal/ADA440_Python_4_DS/main/ALE/text1.txt'\n",
        "    text1 = requests.get(data_url1)\n",
        "    data_url2= 'https://raw.githubusercontent.com/y-akbal/ADA440_Python_4_DS/main/ALE/text2.txt'\n",
        "    text2 = requests.get(data_url2)\n",
        "    with open(\"text1.txt\",\"a\") as file:\n",
        "        file.write(text1.text)\n",
        "    with open(\"text2.txt\",\"a\") as file:\n",
        "        file.write(text2.text)\n",
        "    return None\n",
        "try:\n",
        "    text = download_text()\n",
        "    print(\"Text downloaded succesfully!! the name of the files are text1.txt and text2.txt\")\n",
        "except Exception as a:\n",
        "  print(f\"Something went wrong body that is: {a}\")"
      ]
    },
    {
      "cell_type": "markdown",
      "metadata": {
        "id": "qIxhJswR2oxc"
      },
      "source": [
        "## Run the next to see the files that you downloaded."
      ]
    },
    {
      "cell_type": "code",
      "execution_count": 16,
      "metadata": {
        "colab": {
          "base_uri": "https://localhost:8080/"
        },
        "id": "cDhT03I72ltM",
        "outputId": "e80d256f-c4cd-4c39-c5de-af2a1195a1a4"
      },
      "outputs": [
        {
          "output_type": "stream",
          "name": "stdout",
          "text": [
            "You have the following files in your local directory: ['.config', 'text2.txt', 'text1.txt', 'sample_data']\n"
          ]
        }
      ],
      "source": [
        "def see_files():\n",
        "  l = os.listdir()\n",
        "  print(f\"You have the following files in your local directory: {l}\")\n",
        "see_files()"
      ]
    },
    {
      "cell_type": "markdown",
      "metadata": {
        "id": "e5nOrfCn3M4-"
      },
      "source": [
        "# Write a function  read_txt(), that reads the given txt file and returns it as a string. In the case that this txt file contains a non ascii character this function should throw a type error."
      ]
    },
    {
      "cell_type": "code",
      "execution_count": 17,
      "metadata": {
        "id": "jr5aEBDb3vVj"
      },
      "outputs": [],
      "source": [
        "def read_txt(file_name:str)-> str:\n",
        "  # try:\n",
        "  #   file = open(file_name, 'r')\n",
        "  #   content = file.read()\n",
        "  #   # print(content)\n",
        "  # except:\n",
        "  #   raise ValueError()\n",
        "\n",
        "  file = open(file_name, 'r')\n",
        "  content = ''\n",
        "\n",
        "  for line in file:\n",
        "    content += line\n",
        "    for word in line.split():\n",
        "      if not word.isascii():\n",
        "        raise ValueError()\n",
        "\n",
        "  return content"
      ]
    },
    {
      "cell_type": "markdown",
      "metadata": {
        "id": "CerotESx9vFs"
      },
      "source": [
        "## Let's give a try:"
      ]
    },
    {
      "cell_type": "code",
      "execution_count": 18,
      "metadata": {
        "colab": {
          "base_uri": "https://localhost:8080/"
        },
        "id": "R8cwpJtN3n9y",
        "outputId": "13387e09-9413-4f0a-c669-e3530662a868"
      },
      "outputs": [
        {
          "output_type": "stream",
          "name": "stdout",
          "text": [
            "Yeah you got it pal you got it All tests passed!!!!\n"
          ]
        }
      ],
      "source": [
        "### Graded Cell A32\n",
        "### Do not change anything below\n",
        "read_txt(\"text1.txt\")\n",
        "try:\n",
        "  read_txt(\"text2.txt\")\n",
        "except ValueError:\n",
        "  print(\"Yeah you got it pal you got it All tests passed!!!!\")"
      ]
    },
    {
      "cell_type": "markdown",
      "metadata": {
        "id": "yZAVtaKe4GEH"
      },
      "source": [
        "# Second Exercise:\n",
        "#Write a dice class that emulates a pair of dice. Your class should contain the following methods:\n",
        "\n",
        "# 1) roll -> rolls the pair and returns the outcomes in a tuple\n",
        "# 2) sum -> ross the pair and return the sum of outcomes as an integer.\n",
        "# 3) roll_n_times -> rolls the pair n_times and returns the sum of outcomes in a list.\n",
        "#You should consider the probability that the dice are not fair, therefore in the initialization process add two arguments p_1 and p_2 that give probabilities of landing each face of dice respectively.\n",
        "# For instance if\n",
        "#$p_1 = [1/6, 1/6, 1/6, 1/6, 1/6, 1/6]$  and $p_2 = [1/6, 1/6, 1/6, 1/6, 1/6, 1/6]$ both dice are fair.\n",
        "#If $p_1 = [2/12, 5/12, 2/12, 1/12, 1/12, 1/12]$ --> this guy lands $2$ with probability 5/12, and if $p_2 = [1/8, 1/8, 1/4, 1/4, 1/8, 1/8]$ --> this guy lands $3, 4$ with probability $1/4$ and the rest $1/8$. If any of the $p_1$ or $p_2$ are not specified then, init function should assume that corresponding dice are fair.\n",
        "\n",
        "## for this exercise you can use random library.\n",
        "In particular google random.choices function.\n"
      ]
    },
    {
      "cell_type": "code",
      "execution_count": 19,
      "metadata": {
        "id": "t9RGvv2j5NpJ"
      },
      "outputs": [],
      "source": [
        "import random\n",
        "class dice:\n",
        "  face_of_dice1 = 0 # 0 means not initialized yet\n",
        "  face_of_dice2 = 0 # 0 means not initialized yet\n",
        "  possible_faces = [1,2,3,4,5,6]\n",
        "  probabilities_for_dice1 = [1/6, 1/6, 1/6, 1/6, 1/6, 1/6]\n",
        "  probabilities_for_dice2 = [1/6, 1/6, 1/6, 1/6, 1/6, 1/6]\n",
        "\n",
        "  def __init__(self, p_1 = None, p_2 = None):\n",
        "    if not (p_1 == None or p_2 == None):\n",
        "      self.probabilities_for_dice1 = p_1\n",
        "      self.probabilities_for_dice2 = p_2\n",
        "\n",
        "  def roll(self):\n",
        "    self.face_of_dice1 = random.choices(self.possible_faces, weights=self.probabilities_for_dice1)[0] # random.choices returns a list with 1 element therefore I am taking the first element of the list\n",
        "    self.face_of_dice2 = random.choices(self.possible_faces, weights=self.probabilities_for_dice2)[0] # random.choices returns a list with 1 element therefore I am taking the first element of the list\n",
        "    result = (self.face_of_dice1, self.face_of_dice2)\n",
        "    return result\n",
        "\n",
        "  def sum(self):\n",
        "    self.roll()\n",
        "    return self.face_of_dice1 + self.face_of_dice2\n",
        "\n",
        "  def roll_n_times(self, n_times = 100):\n",
        "    sum_of_outcomes = []\n",
        "    for i in range(n_times):\n",
        "      outcome = self.roll()\n",
        "      sum_of_outcomes.append(outcome[0] + outcome[1])\n",
        "\n",
        "    # return [self.face_of_dice1, self.face_of_dice2]\n",
        "    return sum_of_outcomes"
      ]
    },
    {
      "cell_type": "markdown",
      "metadata": {
        "id": "mfjdDEmAEqfW"
      },
      "source": [
        "## Let's give a try. Please mind the error messages."
      ]
    },
    {
      "cell_type": "code",
      "execution_count": 20,
      "metadata": {
        "colab": {
          "base_uri": "https://localhost:8080/"
        },
        "id": "w52cGZdD4x1S",
        "outputId": "49b2af57-5fcf-4dff-9263-8bec6211a260"
      },
      "outputs": [
        {
          "output_type": "stream",
          "name": "stdout",
          "text": [
            "Ok object created!!!\n",
            "Ok object created with weights!!!\n",
            "Yeah you got it pal you got it, lean back and enjoy the rest of the day!!!! All tests Passed!!!!\n"
          ]
        }
      ],
      "source": [
        "### Graded Cell A12\n",
        "### Do not change anything below\n",
        "try:\n",
        "  pair_of_dice = dice()\n",
        "except Exception as a:\n",
        "  print(f\"Something went wrong with {a}\")\n",
        "finally:\n",
        "  print(\"Ok object created!!!\")\n",
        "### implementation details\n",
        "assert callable(getattr(pair_of_dice, \"roll\")), \"Implement roll method\"\n",
        "assert callable(getattr(pair_of_dice, \"sum\")), \"Implement a sum method!!!\"\n",
        "assert callable(getattr(pair_of_dice, \"roll_n_times\")), \"Implement roll_n_times method\"\n",
        "### On types\n",
        "assert isinstance(pair_of_dice.roll(), tuple), \"Roll method should return a tuple\"\n",
        "assert isinstance(pair_of_dice.sum(), int), \"Sum method should return an integer\"\n",
        "assert isinstance(pair_of_dice.roll_n_times(n_times = 100), list), \"roll_n_times should return a list\"\n",
        "### Some numerical results\n",
        "assert abs(sum([pair_of_dice.roll()[0] for _ in range(1000)])/1000 - 3.5) < 0.7, \"Check your implementation of roll function something is wrong with it!!!\"\n",
        "assert abs(sum([pair_of_dice.sum() for _ in range(1000)])/1000 - 7) < 0.7, \"Check your implementation of sum function something is wrong with it!!!\"\n",
        "assert abs(sum(pair_of_dice.roll_n_times(10000))/10000 - 7) < 0.7, \"Check your implementation of roll_n_times function something is wrong with it!!!\"\n",
        "### Some numerical results with different weights\n",
        "p_1 = [2/12, 5/12, 2/12, 1/12, 1/12, 1/12]\n",
        "p_2 = [1/8,1/8,1/4,1/4,1/8,1/8]\n",
        "### Weights here!!!!\n",
        "try:\n",
        "  pair_of_dice_W = dice(p_1, p_2)\n",
        "except Exception as a:\n",
        "  print(f\"Something went wrong with {a}\")\n",
        "finally:\n",
        "  print(\"Ok object created with weights!!!\")\n",
        "### Some numerical results\n",
        "assert abs(sum([pair_of_dice_W.roll()[0] for _ in range(1000)])/1000 - 2.77) < 0.7, \"Check your implementation of roll function something is wrong with it!!! or your class does not take into account weights\"\n",
        "assert abs(sum([pair_of_dice_W.sum() for _ in range(1000)])/1000 - 6.24) < 0.7, \"Check your implementation of sum function something is wrong with it!!!  or your class does not take into account weights\"\n",
        "assert abs(sum(pair_of_dice_W.roll_n_times(10000))/10000 - 6.24) < 0.7, \"Check your implementation of roll_n_times function something is wrong with it!!!  or your class does not take into account weights\"\n",
        "print(\"Yeah you got it pal you got it, lean back and enjoy the rest of the day!!!! All tests Passed!!!!\")"
      ]
    }
  ],
  "metadata": {
    "colab": {
      "provenance": []
    },
    "kernelspec": {
      "display_name": "Python 3",
      "name": "python3"
    },
    "language_info": {
      "name": "python"
    }
  },
  "nbformat": 4,
  "nbformat_minor": 0
}