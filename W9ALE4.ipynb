{
  "cells": [
    {
      "cell_type": "markdown",
      "id": "49d9bad8",
      "metadata": {
        "id": "49d9bad8"
      },
      "source": [
        "[![Open in Colab](https://colab.research.google.com/assets/colab-badge.svg)](https://colab.research.google.com/github/y-akbal/ADA440_Python_4_DS/blob/main/ALE/ALE4.ipynb)"
      ]
    },
    {
      "cell_type": "code",
      "execution_count": 60,
      "id": "31b4794d",
      "metadata": {
        "id": "31b4794d"
      },
      "outputs": [],
      "source": [
        "import numpy as np\n",
        "import pickle\n",
        "import sklearn\n",
        "import seaborn as sns\n",
        "from sklearn.model_selection import train_test_split"
      ]
    },
    {
      "cell_type": "code",
      "execution_count": 61,
      "id": "d614d6ed",
      "metadata": {
        "id": "d614d6ed"
      },
      "outputs": [],
      "source": [
        "### Below we split our dataset, and fix the random_state in order to\n",
        "### make sure that splitting is done always the same manner\n",
        "### Please beware that this task is a regression task NOT a classification task,\n",
        "### Please go to sklearn's web site and see the arguments of this functions\n",
        "from sklearn.datasets import load_diabetes\n",
        "X,y = load_diabetes(return_X_y= True);\n",
        "X_train, X_test, y_train, y_test  = train_test_split(X, y, random_state = 10);"
      ]
    },
    {
      "cell_type": "markdown",
      "id": "19df3fcd",
      "metadata": {
        "id": "19df3fcd"
      },
      "source": [
        "# For properties of the dataset see https://rowannicholls.github.io/python/data/sklearn_datasets/diabetes.html"
      ]
    },
    {
      "cell_type": "markdown",
      "id": "acab29da",
      "metadata": {
        "id": "acab29da"
      },
      "source": [
        "# Below you will implement your own KNNRegressor object. Feel free to use the ones that we implemented during the lecture, There is no so much difference, the regressor case is even simpler, as we do not need to do polling, rather we shall be taking avarage of the K-nearest neighbors."
      ]
    },
    {
      "cell_type": "code",
      "execution_count": 62,
      "id": "28794b2f",
      "metadata": {
        "id": "28794b2f"
      },
      "outputs": [],
      "source": [
        "class KNNRegressor:\n",
        "    def __init__(self, n_neighbors = 5):\n",
        "        self.n_neighbors = n_neighbors\n",
        "        self.fitted = False\n",
        "\n",
        "    def fit(self, X_train, y_train):\n",
        "        self.X_train = X_train\n",
        "        self.y_train = y_train\n",
        "        self.fitted = True\n",
        "\n",
        "    def __predictsingle__(self, x_sample)->float:\n",
        "        distances = np.linalg.norm(self.X_train - x_sample, axis = 1)\n",
        "        sorted_distances = np.argsort(distances)\n",
        "        knearest_classes = self.y_train[sorted_distances[:self.n_neighbors]]\n",
        "        return np.mean(knearest_classes) # Taking average of the K-nearest neighbors\n",
        "\n",
        "    def predict(self, X_test:np.ndarray)->np.ndarray:\n",
        "        y_pred = list()\n",
        "        for x in X_test:\n",
        "          y_pred.append(self.__predictsingle__(x))\n",
        "        return np.array(y_pred)"
      ]
    },
    {
      "cell_type": "markdown",
      "id": "a294c126",
      "metadata": {
        "id": "a294c126"
      },
      "source": [
        "## Let's give it a try!!! (The following cell will check if you implemeted needed functions correctly)"
      ]
    },
    {
      "cell_type": "code",
      "execution_count": 63,
      "id": "81300495",
      "metadata": {
        "id": "81300495",
        "colab": {
          "base_uri": "https://localhost:8080/"
        },
        "outputId": "afbecd80-d195-44c3-a4b9-b5af8213ee81"
      },
      "outputs": [
        {
          "output_type": "stream",
          "name": "stdout",
          "text": [
            "Chill the hell out broooo, seems that you are doing good!!!!\n"
          ]
        }
      ],
      "source": [
        "## Graded Cell A12, do not change this cell as this will cause compiler to crash\n",
        "### This cell will check if you set up the right attributes, and right methods\n",
        "knn = KNNRegressor() ## we create an instance of this class\n",
        "assert callable(knn.fit), \"Implement fit method first!!!\"\n",
        "assert callable(knn.predict), \"Implement predict method!!!\"\n",
        "assert callable(knn.__predictsingle__), \"Implement __predictsingle__ method!!!\"\n",
        "knn.fit(X_train, y_train)\n",
        "assert len(vars(knn)) >= 3, \"Do you think that your fit method is really functional??\"\n",
        "print(\"Chill the hell out broooo, seems that you are doing good!!!!\")\n",
        "L_ = True\n",
        "del(knn) ## Garbage collection is your friend!!!!"
      ]
    },
    {
      "cell_type": "markdown",
      "id": "39a6c37b",
      "metadata": {
        "id": "39a6c37b"
      },
      "source": [
        "## You shall now implement $R^2$ function. To do so, you will need review what $R^2$ score does.\n",
        "## See here: https://en.wikipedia.org/wiki/Coefficient_of_determination"
      ]
    },
    {
      "cell_type": "code",
      "execution_count": 64,
      "id": "ff07c14d",
      "metadata": {
        "id": "ff07c14d"
      },
      "outputs": [],
      "source": [
        "def r2_score(y_true:np.ndarray, y_pred:np.ndarray) -> float:\n",
        "    y_mean = np.mean(y_true)\n",
        "    tss = np.sum((y_true - y_mean)**2) # Total sum of squares (TSS)\n",
        "    rss = np.sum((y_true - y_pred)**2) # Residual sum of squares (RSS)\n",
        "    r2 = 1 - (rss / tss)\n",
        "    return r2"
      ]
    },
    {
      "cell_type": "code",
      "execution_count": 65,
      "id": "486bf8c7",
      "metadata": {
        "id": "486bf8c7",
        "colab": {
          "base_uri": "https://localhost:8080/"
        },
        "outputId": "7bb74f86-5541-47b7-af6e-d69864c3bd00"
      },
      "outputs": [
        {
          "output_type": "stream",
          "name": "stdout",
          "text": [
            "Gott it buddy!!!, Guido van Rossum is proud of you!!!\n"
          ]
        }
      ],
      "source": [
        "### Graded Cell A34, do not change any line of the code below as this may cause compiler to crash,\n",
        "###\n",
        "np.random.seed(10)\n",
        "y_true = np.random.randn(1000)\n",
        "y_pred = np.random.randn(1000)\n",
        "assert not np.isclose(r2_score(y_true, y_pred), -0.7612976464497292), \"Please mind the order!!!! y_true should be in the denominator\"\n",
        "assert np.isclose(r2_score(y_true, y_pred), -0.981139), \"Watcha your implementation\"\n",
        "print(\"Gott it buddy!!!, Guido van Rossum is proud of you!!!\")\n",
        "L = True\n",
        "del(y_true) ### Collect your garbage!!!\n",
        "del(y_pred) ### Collect your garbage!!!"
      ]
    },
    {
      "cell_type": "markdown",
      "id": "16cf1044",
      "metadata": {
        "id": "16cf1044"
      },
      "source": [
        "## Let's now check if our KNNregressor object does really well.\n"
      ]
    },
    {
      "cell_type": "code",
      "execution_count": 66,
      "id": "b04a4721",
      "metadata": {
        "id": "b04a4721",
        "colab": {
          "base_uri": "https://localhost:8080/"
        },
        "outputId": "adbb7017-946c-4ef6-803f-2e4fafa679d3"
      },
      "outputs": [
        {
          "output_type": "stream",
          "name": "stderr",
          "text": [
            "100%|██████████| 198/198 [00:02<00:00, 85.86it/s]"
          ]
        },
        {
          "output_type": "stream",
          "name": "stdout",
          "text": [
            "\n",
            " So far everyhing is gooooooood!!!!\n"
          ]
        },
        {
          "output_type": "stream",
          "name": "stderr",
          "text": [
            "\n"
          ]
        }
      ],
      "source": [
        "### Graded Cell 35, Do not change any part of this cell!!!!\n",
        "import tqdm\n",
        "from sklearn.neighbors import KNeighborsRegressor\n",
        "check_list = []\n",
        "for i in tqdm.trange(2, 200):\n",
        "    knn_ = KNeighborsRegressor(n_neighbors = i)\n",
        "    knn = KNNRegressor(n_neighbors= i)\n",
        "    knn_.fit(X_train, y_train)\n",
        "    knn.fit(X_train,y_train)\n",
        "    y_pred = knn.predict(X_test)\n",
        "    check_list.append(r2_score(y_test, y_pred) == knn_.score(X_test, y_test))\n",
        "assert np.all(check_list), \"Check your implementation comrade!!!\"\n",
        "print(\"\\n So far everyhing is gooooooood!!!!\")\n",
        "L___ = True"
      ]
    },
    {
      "cell_type": "markdown",
      "id": "c3598f05",
      "metadata": {
        "id": "c3598f05"
      },
      "source": [
        "## Let's do a final check to see if you are doin' good!!!"
      ]
    },
    {
      "cell_type": "code",
      "execution_count": 67,
      "id": "0d035090",
      "metadata": {
        "id": "0d035090",
        "colab": {
          "base_uri": "https://localhost:8080/"
        },
        "outputId": "660a1b4c-8601-4f89-a6db-f4865f2861b1"
      },
      "outputs": [
        {
          "output_type": "stream",
          "name": "stdout",
          "text": [
            "Yeap you got it!!!\n"
          ]
        }
      ],
      "source": [
        "def final_check():\n",
        "    if L+L_+L___ == 3:\n",
        "        print(\"Yeap you got it!!!\")\n",
        "    else:\n",
        "        print(\"Something went wrong :...(\")\n",
        "final_check()"
      ]
    }
  ],
  "metadata": {
    "colab": {
      "provenance": []
    },
    "kernelspec": {
      "display_name": "Python 3 (ipykernel)",
      "language": "python",
      "name": "python3"
    },
    "language_info": {
      "codemirror_mode": {
        "name": "ipython",
        "version": 3
      },
      "file_extension": ".py",
      "mimetype": "text/x-python",
      "name": "python",
      "nbconvert_exporter": "python",
      "pygments_lexer": "ipython3",
      "version": "3.9.12"
    }
  },
  "nbformat": 4,
  "nbformat_minor": 5
}